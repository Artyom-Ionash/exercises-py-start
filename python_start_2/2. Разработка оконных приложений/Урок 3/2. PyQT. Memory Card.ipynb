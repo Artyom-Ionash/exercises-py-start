{
 "cells": [
  {
   "cell_type": "code",
   "execution_count": 1,
   "metadata": {},
   "outputs": [
    {
     "data": {
      "text/plain": [
       "0"
      ]
     },
     "execution_count": 1,
     "metadata": {},
     "output_type": "execute_result"
    }
   ],
   "source": [
    "#создай приложение для запоминания информации\n",
    "from PyQt5.QtCore import Qt\n",
    "from PyQt5.QtWidgets import QApplication, QWidget, QHBoxLayout, QVBoxLayout, QGroupBox, QRadioButton, QPushButton, QLabel\n",
    "\n",
    "\n",
    "app = QApplication([])\n",
    "\n",
    "\n",
    "window = QWidget()\n",
    "window.setWindowTitle('Memory Card')\n",
    "\n",
    "\n",
    "'''Интерфейс приложения Memory Card'''\n",
    "btn_ok = QPushButton('Ответить') # кнопка ответа\n",
    "lb_question = QLabel('Какой национальности не существует?') # текст вопроса\n",
    "\n",
    "\n",
    "radio_group_box = QGroupBox(\"Варианты ответов\") # группа ответов (выделяется визуально)\n",
    "\n",
    "# радиальные переключатели с ответами\n",
    "rbtn_1 = QRadioButton('Энцы')\n",
    "rbtn_2 = QRadioButton('Смурфы' )\n",
    "rbtn_3 = QRadioButton('Чулымцы')\n",
    "rbtn_4 = QRadioButton('Алеуты')\n",
    "\n",
    "# вертикальные будут внутри горизонтального\n",
    "layout_quest = QHBoxLayout()\n",
    "\n",
    "# два ответа в первый столбец\n",
    "layout_answer_column_1 = QVBoxLayout() \n",
    "layout_answer_column_1.addWidget(rbtn_1)\n",
    "layout_answer_column_1.addWidget(rbtn_2)\n",
    "\n",
    "# два ответа во второй столбец\n",
    "layout_answer_column_2 = QVBoxLayout()\n",
    "layout_answer_column_2.addWidget(rbtn_3)\n",
    "layout_answer_column_2.addWidget(rbtn_4)\n",
    "\n",
    "\n",
    "layout_quest.addLayout(layout_answer_column_1)\n",
    "layout_quest.addLayout(layout_answer_column_2) # разместили столбцы в одной строке\n",
    "\n",
    "\n",
    "radio_group_box.setLayout(layout_quest) # готова \"панель\" с вариантами ответов \n",
    "\n",
    "\n",
    "layout_line1 = QHBoxLayout() # вопрос\n",
    "layout_line2 = QHBoxLayout() # варианты ответов или результат теста\n",
    "layout_line3 = QHBoxLayout() # кнопка \"Ответить\"\n",
    "\n",
    "\n",
    "layout_line1.addWidget(lb_question, alignment=(Qt.AlignHCenter | Qt.AlignVCenter))\n",
    "layout_line2.addWidget(radio_group_box)\n",
    "\n",
    "\n",
    "layout_line3.addStretch(1)\n",
    "layout_line3.addWidget(btn_ok, stretch=2) # кнопка должна быть большой\n",
    "layout_line3.addStretch(1)\n",
    "\n",
    "\n",
    "# Теперь созданные строки разместим друг под другой:\n",
    "layout_card = QVBoxLayout()\n",
    "\n",
    "\n",
    "layout_card.addLayout(layout_line1, stretch=2)\n",
    "layout_card.addLayout(layout_line2, stretch=8)\n",
    "layout_card.addStretch(1)\n",
    "layout_card.addLayout(layout_line3, stretch=1)\n",
    "layout_card.addStretch(1)\n",
    "layout_card.setSpacing(5) # пробелы между содержимым\n",
    "\n",
    "\n",
    "window.setLayout(layout_card)\n",
    "window.show()\n",
    "app.exec()\n"
   ]
  }
 ],
 "metadata": {
  "kernelspec": {
   "display_name": "pip_pyqt5",
   "language": "python",
   "name": "python3"
  },
  "language_info": {
   "codemirror_mode": {
    "name": "ipython",
    "version": 3
   },
   "file_extension": ".py",
   "mimetype": "text/x-python",
   "name": "python",
   "nbconvert_exporter": "python",
   "pygments_lexer": "ipython3",
   "version": "3.13.0"
  }
 },
 "nbformat": 4,
 "nbformat_minor": 2
}
