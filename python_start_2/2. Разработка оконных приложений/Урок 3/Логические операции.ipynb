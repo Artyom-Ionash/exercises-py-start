{
 "cells": [
  {
   "cell_type": "code",
   "execution_count": 1,
   "metadata": {},
   "outputs": [
    {
     "name": "stdout",
     "output_type": "stream",
     "text": [
      "Qt.AlignHCenter:   4 (00000100)\n",
      "Qt.AlignVCenter: 128 (10000000)\n"
     ]
    }
   ],
   "source": [
    "from PyQt5.QtCore import Qt\n",
    "\n",
    "print(f\"Qt.AlignHCenter: {Qt.AlignHCenter:>3} ({format(Qt.AlignHCenter, \"08b\")})\")\n",
    "print(f\"Qt.AlignVCenter: {Qt.AlignVCenter:>3} ({format(Qt.AlignVCenter, \"08b\")})\")"
   ]
  },
  {
   "cell_type": "markdown",
   "metadata": {},
   "source": [
    "## Побитовые операции в Python\n"
   ]
  },
  {
   "cell_type": "code",
   "execution_count": 2,
   "metadata": {},
   "outputs": [
    {
     "name": "stdout",
     "output_type": "stream",
     "text": [
      "Qt.AlignHCenter: 00000100\n",
      "Qt.AlignVCenter: 10000000\n",
      "\n",
      "       H|V:      10000100 (побитовое ИЛИ)\n",
      "       H&V:      00000000 (побитовое И)\n"
     ]
    }
   ],
   "source": [
    "print(f'Qt.AlignHCenter: {format(Qt.AlignHCenter, \"08b\")}')\n",
    "print(f'Qt.AlignVCenter: {format(Qt.AlignVCenter, \"08b\")}')\n",
    "print()\n",
    "print(\n",
    "    f\"       H|V:      {format(int(Qt.AlignHCenter | Qt.AlignVCenter), \"08b\")} (побитовое ИЛИ)\"\n",
    ")\n",
    "print(\n",
    "    f\"       H&V:      {format(int(Qt.AlignHCenter & Qt.AlignVCenter), \"08b\")} (побитовое И)\"\n",
    ")"
   ]
  },
  {
   "cell_type": "markdown",
   "metadata": {},
   "source": [
    "## Логические операции в Python\n"
   ]
  },
  {
   "cell_type": "code",
   "execution_count": 3,
   "metadata": {},
   "outputs": [
    {
     "name": "stdout",
     "output_type": "stream",
     "text": [
      "4\n"
     ]
    }
   ],
   "source": [
    "# Возвращает первое \"неложное\" значение\n",
    "# (\"ложью\" считается False, 0 и None)\n",
    "print(None or 0 or Qt.AlignHCenter or Qt.AlignVCenter)"
   ]
  },
  {
   "cell_type": "code",
   "execution_count": 4,
   "metadata": {},
   "outputs": [
    {
     "name": "stdout",
     "output_type": "stream",
     "text": [
      "False\n"
     ]
    }
   ],
   "source": [
    "# или последнее \"ложное\", если \"неложных\" нет.\n",
    "print(None or 0 or False)"
   ]
  },
  {
   "cell_type": "code",
   "execution_count": 5,
   "metadata": {},
   "outputs": [
    {
     "name": "stdout",
     "output_type": "stream",
     "text": [
      "None\n"
     ]
    }
   ],
   "source": [
    "# Возвращает первое \"ложное\" значение,\n",
    "# (\"ложью\" считается False, 0 и None)\n",
    "print(None and 0 and Qt.AlignHCenter and Qt.AlignVCenter)"
   ]
  },
  {
   "cell_type": "code",
   "execution_count": 6,
   "metadata": {},
   "outputs": [
    {
     "name": "stdout",
     "output_type": "stream",
     "text": [
      "128\n"
     ]
    }
   ],
   "source": [
    "# или последнее \"неложное\", если \"ложных\" нет.\n",
    "print(Qt.AlignHCenter and Qt.AlignVCenter)"
   ]
  }
 ],
 "metadata": {
  "kernelspec": {
   "display_name": "pip_pyqt5",
   "language": "python",
   "name": "python3"
  },
  "language_info": {
   "codemirror_mode": {
    "name": "ipython",
    "version": 3
   },
   "file_extension": ".py",
   "mimetype": "text/x-python",
   "name": "python",
   "nbconvert_exporter": "python",
   "pygments_lexer": "ipython3",
   "version": "3.13.0"
  }
 },
 "nbformat": 4,
 "nbformat_minor": 2
}
